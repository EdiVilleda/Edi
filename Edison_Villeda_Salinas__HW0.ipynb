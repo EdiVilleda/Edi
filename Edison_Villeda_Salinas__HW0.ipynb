{
  "nbformat": 4,
  "nbformat_minor": 0,
  "metadata": {
    "colab": {
      "provenance": [],
      "authorship_tag": "ABX9TyP+gefGVVDkHb3a01uVsA7T",
      "include_colab_link": true
    },
    "kernelspec": {
      "name": "python3",
      "display_name": "Python 3"
    },
    "language_info": {
      "name": "python"
    }
  },
  "cells": [
    {
      "cell_type": "markdown",
      "metadata": {
        "id": "view-in-github",
        "colab_type": "text"
      },
      "source": [
        "<a href=\"https://colab.research.google.com/github/EdiVilleda/Edi/blob/main/Edison_Villeda_Salinas__HW0.ipynb\" target=\"_parent\"><img src=\"https://colab.research.google.com/assets/colab-badge.svg\" alt=\"Open In Colab\"/></a>"
      ]
    },
    {
      "cell_type": "markdown",
      "source": [
        "# **HW0 Problem 1**"
      ],
      "metadata": {
        "id": "YGFXOeajqi--"
      }
    },
    {
      "cell_type": "markdown",
      "source": [
        "# **Problem 1a: Plot the final regression model and loss over the iteration per each explanatory variable.**"
      ],
      "metadata": {
        "id": "V8AkxoK0qgLW"
      }
    },
    {
      "cell_type": "markdown",
      "source": [
        "Import the important libraries in order to make a linear regression. Once Numpy and Pandas have been imported, we can create a DataFrame from a CSV file. This is done using the read_csv function in Pandas. \"/content/D3.csv\" is a path to the csv file."
      ],
      "metadata": {
        "id": "1oqZOfTwqmId"
      }
    },
    {
      "cell_type": "code",
      "source": [
        "import pandas as pd\n",
        "import numpy as np\n",
        "import matplotlib.pyplot as plt\n",
        "from sklearn import linear_model\n",
        "\n",
        "df = pd.read_csv(\"/content/D3.csv\")\n",
        "print(df)\n"
      ],
      "metadata": {
        "colab": {
          "base_uri": "https://localhost:8080/"
        },
        "id": "4YebUlm3dBGB",
        "outputId": "fa935f1d-6237-4a9a-e269-8727665411a3"
      },
      "execution_count": 263,
      "outputs": [
        {
          "output_type": "stream",
          "name": "stdout",
          "text": [
            "          X1        X2        X3         Y\n",
            "0   0.000000  3.440000  0.440000  4.387545\n",
            "1   0.040404  0.134949  0.888485  2.679650\n",
            "2   0.080808  0.829899  1.336970  2.968490\n",
            "3   0.121212  1.524848  1.785455  3.254065\n",
            "4   0.161616  2.219798  2.233939  3.536375\n",
            "..       ...       ...       ...       ...\n",
            "95  3.838384  1.460202  3.046061 -4.440595\n",
            "96  3.878788  2.155152  3.494545 -4.458663\n",
            "97  3.919192  2.850101  3.943030 -4.479995\n",
            "98  3.959596  3.545051  0.391515 -3.304593\n",
            "99  4.000000  0.240000  0.840000 -5.332455\n",
            "\n",
            "[100 rows x 4 columns]\n"
          ]
        }
      ]
    },
    {
      "cell_type": "code",
      "source": [
        "dataset = df.values[:,:]\n",
        "print(\"dataset =\",dataset[:5,0:]) "
      ],
      "metadata": {
        "colab": {
          "base_uri": "https://localhost:8080/"
        },
        "id": "v3Tnc5wrA0fG",
        "outputId": "ff814cec-866c-44d3-b419-b34344978ca1"
      },
      "execution_count": 264,
      "outputs": [
        {
          "output_type": "stream",
          "name": "stdout",
          "text": [
            "dataset = [[0.         3.44       0.44       4.38754501]\n",
            " [0.04040404 0.1349495  0.88848485 2.6796499 ]\n",
            " [0.08080808 0.82989899 1.3369697  2.96848981]\n",
            " [0.12121212 1.52484848 1.78545454 3.25406475]\n",
            " [0.16161616 2.21979798 2.23393939 3.53637472]]\n"
          ]
        }
      ]
    },
    {
      "cell_type": "markdown",
      "source": [
        "After importing Numpy and Pandas and creating a DataFrame (df) from a CSV file, it is common to separate the data into two arrays, X and Y. X typically represents the independent variables, while Y represents the dependent variable. To separate the values from the CSV file into X and Y, we can access the columns of the DataFrame and assign them to the appropriate arrays. For example, assigning X to the collumn X1 and assigning Y to the collumn Y."
      ],
      "metadata": {
        "id": "2H51K9hj1JNY"
      }
    },
    {
      "cell_type": "code",
      "source": [
        "Xi = df.values[:, 0]\n",
        "Y = df.values[:, 3]\n",
        "Xii = df.values[:, 1]\n",
        "Xiii = df.values[:, 2]\n",
        "len(Xi),len(Y)\n",
        "\n",
        "m = len(Xi)"
      ],
      "metadata": {
        "id": "tA0NRkcW-9nf"
      },
      "execution_count": 265,
      "outputs": []
    },
    {
      "cell_type": "code",
      "source": [
        "print(\"X1 =\", Xi [: 5])\n",
        "print(\"X2 =\", Xii [: 5])\n",
        "print(\"X3 =\", Xiii [: 5])\n",
        "print(\"Y =\", Y[: 5])"
      ],
      "metadata": {
        "colab": {
          "base_uri": "https://localhost:8080/"
        },
        "id": "Z3HSIHY7_XfA",
        "outputId": "2f80bb9d-b63b-4f34-f2d1-090a9cd7c9da"
      },
      "execution_count": 266,
      "outputs": [
        {
          "output_type": "stream",
          "name": "stdout",
          "text": [
            "X1 = [0.         0.04040404 0.08080808 0.12121212 0.16161616]\n",
            "X2 = [3.44       0.1349495  0.82989899 1.52484848 2.21979798]\n",
            "X3 = [0.44       0.88848485 1.3369697  1.78545454 2.23393939]\n",
            "Y = [4.38754501 2.6796499  2.96848981 3.25406475 3.53637472]\n"
          ]
        }
      ]
    },
    {
      "cell_type": "markdown",
      "source": [
        "After that, using the arrays from X1 and Y, now it's possible to plot a scatter plot. The plt.scatter function takes in two arrays as inputs which represent the x and y coordinates of the points to be plotted. The function also takes additional optional parameters like colors and markers."
      ],
      "metadata": {
        "id": "KQRmm9Wb1MHI"
      }
    },
    {
      "cell_type": "code",
      "source": [
        "plt.scatter(Xi,Y, color='red',marker= '+')\n",
        "plt.grid()\n",
        "plt.rcParams[\"figure.figsize\"] = (10,6)\n",
        "plt.xlabel('X1')\n",
        "plt.ylabel('Y')\n",
        "plt.title('Scatter Plot')"
      ],
      "metadata": {
        "colab": {
          "base_uri": "https://localhost:8080/",
          "height": 421
        },
        "id": "SfEgiWycAckT",
        "outputId": "c4e69a87-cfa3-4e28-f35b-d55284f9ec52"
      },
      "execution_count": 267,
      "outputs": [
        {
          "output_type": "execute_result",
          "data": {
            "text/plain": [
              "Text(0.5, 1.0, 'Scatter Plot')"
            ]
          },
          "metadata": {},
          "execution_count": 267
        },
        {
          "output_type": "display_data",
          "data": {
            "text/plain": [
              "<Figure size 720x432 with 1 Axes>"
            ],
            "image/png": "[encoded data removed]"
          },
          "metadata": {
            "needs_background": "light"
          }
        }
      ]
    },
    {
      "cell_type": "code",
      "source": [
        "plt.scatter(Xii,Y, color='blue',marker= '+')\n",
        "plt.grid()\n",
        "plt.rcParams[\"figure.figsize\"] = (10,6)\n",
        "plt.xlabel('X2')\n",
        "plt.ylabel('Y')\n",
        "plt.title('Scatter Plot')"
      ],
      "metadata": {
        "colab": {
          "base_uri": "https://localhost:8080/",
          "height": 421
        },
        "id": "EnaBMjTt1YkN",
        "outputId": "b4c0dd5e-1d88-4a14-bb99-97c1a9552319"
      },
      "execution_count": 268,
      "outputs": [
        {
          "output_type": "execute_result",
          "data": {
            "text/plain": [
              "Text(0.5, 1.0, 'Scatter Plot')"
            ]
          },
          "metadata": {},
          "execution_count": 268
        },
        {
          "output_type": "display_data",
          "data": {
            "text/plain": [
              "<Figure size 720x432 with 1 Axes>"
            ],
            "image/png": "[encoded data removed]"
          },
          "metadata": {
            "needs_background": "light"
          }
        }
      ]
    },
    {
      "cell_type": "code",
      "source": [
        "plt.scatter(Xiii,Y, color='orange',marker= '+')\n",
        "plt.grid()\n",
        "plt.rcParams[\"figure.figsize\"] = (10,6)\n",
        "plt.xlabel('X3')\n",
        "plt.ylabel('Y')\n",
        "plt.title('Scatter Plot')"
      ],
      "metadata": {
        "colab": {
          "base_uri": "https://localhost:8080/",
          "height": 421
        },
        "id": "fQlwtWNO1YWS",
        "outputId": "57ec5806-7807-4cd8-f79b-2000a3efb20e"
      },
      "execution_count": 269,
      "outputs": [
        {
          "output_type": "execute_result",
          "data": {
            "text/plain": [
              "Text(0.5, 1.0, 'Scatter Plot')"
            ]
          },
          "metadata": {},
          "execution_count": 269
        },
        {
          "output_type": "display_data",
          "data": {
            "text/plain": [
              "<Figure size 720x432 with 1 Axes>"
            ],
            "image/png": "[encoded data removed]"
          },
          "metadata": {
            "needs_background": "light"
          }
        }
      ]
    },
    {
      "cell_type": "markdown",
      "source": [
        "This code is about using reshaping and ones functions on independent values and assighning it to X_1 and X_0."
      ],
      "metadata": {
        "id": "yIDeOfjF1wED"
      }
    },
    {
      "cell_type": "code",
      "source": [
        "m = len(Xi)\n",
        "m1 = len(Xii)\n",
        "m2 = len(Xii)\n",
        "print(m)\n",
        "print(m1)\n",
        "print(m2)\n",
        "X_1 = Xi.reshape(m,1)\n",
        "X_1a = Xii.reshape(m1,1)\n",
        "X_1b = Xiii.reshape(m2,1)\n",
        "print(\"X_1 =\",X_1[:5,:])\n",
        "print(\"X_1a =\",X_1a[:5,:])\n",
        "print(\"X_1b =\",X_1b[:5,:])"
      ],
      "metadata": {
        "colab": {
          "base_uri": "https://localhost:8080/"
        },
        "id": "etAK_qXdDyBr",
        "outputId": "95e5c36f-37c2-4b0d-aecb-b35965dfc286"
      },
      "execution_count": 270,
      "outputs": [
        {
          "output_type": "stream",
          "name": "stdout",
          "text": [
            "100\n",
            "100\n",
            "100\n",
            "X_1 = [[0.        ]\n",
            " [0.04040404]\n",
            " [0.08080808]\n",
            " [0.12121212]\n",
            " [0.16161616]]\n",
            "X_1a = [[3.44      ]\n",
            " [0.1349495 ]\n",
            " [0.82989899]\n",
            " [1.52484848]\n",
            " [2.21979798]]\n",
            "X_1b = [[0.44      ]\n",
            " [0.88848485]\n",
            " [1.3369697 ]\n",
            " [1.78545454]\n",
            " [2.23393939]]\n"
          ]
        }
      ]
    },
    {
      "cell_type": "code",
      "source": [
        "m = len(Xi)\n",
        "m1 = len(Xii)\n",
        "m2 = len(Xii)\n",
        "X_0 = np.ones((m,1))\n",
        "X_0[:5],len(X_0)\n",
        "\n",
        "X_0a = np.ones((m1,1))\n",
        "X_0a[:5],len(X_0a)\n",
        "\n",
        "X_0b = np.ones((m2,1))\n",
        "X_0b[:5],len(X_0b)"
      ],
      "metadata": {
        "colab": {
          "base_uri": "https://localhost:8080/"
        },
        "id": "O674vB0BFdjL",
        "outputId": "911986ff-c6e6-4652-b490-2adb572e3860"
      },
      "execution_count": 271,
      "outputs": [
        {
          "output_type": "execute_result",
          "data": {
            "text/plain": [
              "(array([[1.],\n",
              "        [1.],\n",
              "        [1.],\n",
              "        [1.],\n",
              "        [1.]]), 100)"
            ]
          },
          "metadata": {},
          "execution_count": 271
        }
      ]
    },
    {
      "cell_type": "code",
      "source": [
        "Xi = np.hstack((X_0,X_1))\n",
        "Xi[:5]\n",
        "\n",
        "Xii = np.hstack((X_0a,X_1a))\n",
        "Xii[:5]\n",
        "\n",
        "Xiii = np.hstack((X_0b,X_1b))\n",
        "Xiii[:5]\n",
        "print(Xi[:5])\n",
        "print(Xii[:5])\n",
        "print(Xiii[:5])"
      ],
      "metadata": {
        "colab": {
          "base_uri": "https://localhost:8080/"
        },
        "id": "otDca5xfGJeu",
        "outputId": "084476bf-a94c-4dfa-f7bb-1232aba67090"
      },
      "execution_count": 272,
      "outputs": [
        {
          "output_type": "stream",
          "name": "stdout",
          "text": [
            "[[1.         0.        ]\n",
            " [1.         0.04040404]\n",
            " [1.         0.08080808]\n",
            " [1.         0.12121212]\n",
            " [1.         0.16161616]]\n",
            "[[1.         3.44      ]\n",
            " [1.         0.1349495 ]\n",
            " [1.         0.82989899]\n",
            " [1.         1.52484848]\n",
            " [1.         2.21979798]]\n",
            "[[1.         0.44      ]\n",
            " [1.         0.88848485]\n",
            " [1.         1.3369697 ]\n",
            " [1.         1.78545454]\n",
            " [1.         2.23393939]]\n"
          ]
        }
      ]
    },
    {
      "cell_type": "code",
      "source": [
        "theta = np.zeros((2,1))\n",
        "theta"
      ],
      "metadata": {
        "colab": {
          "base_uri": "https://localhost:8080/"
        },
        "id": "sB3XGsWEHkSm",
        "outputId": "06ce49dd-0f2e-4e11-c043-c23d77935d57"
      },
      "execution_count": 273,
      "outputs": [
        {
          "output_type": "execute_result",
          "data": {
            "text/plain": [
              "array([[0.],\n",
              "       [0.]])"
            ]
          },
          "metadata": {},
          "execution_count": 273
        }
      ]
    },
    {
      "cell_type": "markdown",
      "source": [
        "Finding the cost function is a crucial step in order to get the linear regression model. The cost function measures the difference between the predicted values and the actual values in the data. It uses define function and a cost function equation, J = 1/(2*m) * Σ(h_0(x^(i)) - y_hat_i)^2."
      ],
      "metadata": {
        "id": "9AzLsuY0LhZ_"
      }
    },
    {
      "cell_type": "code",
      "source": [
        "def compute_loss(Xi,Y,theta):\n",
        "\n",
        "  predictions = Xi.dot(theta)\n",
        "\n",
        "  errors = np.subtract(predictions,Y)\n",
        "  sqrErrors = np.square(errors)\n",
        "  J = 1/(2 * m) * np.sum(sqrErrors)\n",
        "  \n",
        "  return J"
      ],
      "metadata": {
        "id": "c3LFHQaiIaS4"
      },
      "execution_count": 274,
      "outputs": []
    },
    {
      "cell_type": "code",
      "source": [
        "def compute_loss(Xii,Y,theta):\n",
        "\n",
        "  predictions = Xii.dot(theta)\n",
        "\n",
        "  errors = np.subtract(predictions,Y)\n",
        "  sqrErrors = np.square(errors)\n",
        "  J1 = 1/(2 * m) * np.sum(sqrErrors)\n",
        "  \n",
        "  return J1"
      ],
      "metadata": {
        "id": "X6EoaODZYDUZ"
      },
      "execution_count": 275,
      "outputs": []
    },
    {
      "cell_type": "code",
      "source": [
        "def compute_loss(Xiii,Y,theta):\n",
        "\n",
        "  predictions = Xiii.dot(theta)\n",
        "\n",
        "  errors = np.subtract(predictions,Y)\n",
        "  sqrErrors = np.square(errors)\n",
        "  J2 = 1/(2 * m) * np.sum(sqrErrors)\n",
        "  \n",
        "  return J2"
      ],
      "metadata": {
        "id": "vPmiDtECZ65H"
      },
      "execution_count": 276,
      "outputs": []
    },
    {
      "cell_type": "code",
      "source": [
        "cost = compute_loss(Xi,Y,theta)\n",
        "print(cost)"
      ],
      "metadata": {
        "colab": {
          "base_uri": "https://localhost:8080/"
        },
        "id": "3mrZtwqiMimz",
        "outputId": "74434f51-a60b-4e81-fae6-72507e334147"
      },
      "execution_count": 277,
      "outputs": [
        {
          "output_type": "stream",
          "name": "stdout",
          "text": [
            "552.4438459196241\n"
          ]
        }
      ]
    },
    {
      "cell_type": "code",
      "source": [
        "cost = compute_loss(Xii,Y,theta)\n",
        "print(cost)"
      ],
      "metadata": {
        "colab": {
          "base_uri": "https://localhost:8080/"
        },
        "id": "Ma2enIGdYKhr",
        "outputId": "929fe580-8edf-49f4-aab8-508344058cf6"
      },
      "execution_count": 278,
      "outputs": [
        {
          "output_type": "stream",
          "name": "stdout",
          "text": [
            "552.4438459196241\n"
          ]
        }
      ]
    },
    {
      "cell_type": "code",
      "source": [
        "cost = compute_loss(Xiii,Y,theta)\n",
        "print(cost)"
      ],
      "metadata": {
        "colab": {
          "base_uri": "https://localhost:8080/"
        },
        "id": "AUOWSxQgaIdY",
        "outputId": "7cb8647e-abae-4da9-e8f0-881dc417bb62"
      },
      "execution_count": 279,
      "outputs": [
        {
          "output_type": "stream",
          "name": "stdout",
          "text": [
            "552.4438459196241\n"
          ]
        }
      ]
    },
    {
      "cell_type": "markdown",
      "source": [
        "This code helps find the linear model for problem 1. The linear model for X_1 will be Y = -(2.01*X) + 5.86, for X_2 is Y = (0.53*X) + 0.8, and for X_3 is Y = -(0.53*X) + 2.9."
      ],
      "metadata": {
        "id": "w3uqf5kYOsjz"
      }
    },
    {
      "cell_type": "code",
      "source": [
        "def gradient_descent(Xi,Y,theta,alpha,iterations):\n",
        "  loss_history = np.zeros(iterations)\n",
        "  for i in range(iterations):\n",
        "    predictions = Xi.dot(theta)\n",
        "    errors = np.subtract(predictions,Y)\n",
        "    sum_delta = (alpha/m) * Xi.transpose().dot(errors);\n",
        "    theta = theta - sum_delta;\n",
        "    loss_history[i] = compute_loss(Xi,Y,theta)\n",
        "    \n",
        "  return theta, loss_history"
      ],
      "metadata": {
        "id": "GpcLSyOUMyth"
      },
      "execution_count": 280,
      "outputs": []
    },
    {
      "cell_type": "code",
      "source": [
        "def gradient_descent(Xii,Y,theta,alpha,iterations1):\n",
        "  loss_history1 = np.zeros(iterations1)\n",
        "  for i in range(iterations1):\n",
        "    predictions = Xii.dot(theta)\n",
        "    errors = np.subtract(predictions,Y)\n",
        "    sum_delta = (alpha/m) * Xii.transpose().dot(errors);\n",
        "    theta = theta - sum_delta;\n",
        "    loss_history1[i] = compute_loss(Xii,Y,theta)\n",
        "    \n",
        "  return theta, loss_history1"
      ],
      "metadata": {
        "id": "cCwL3-MDYovH"
      },
      "execution_count": 281,
      "outputs": []
    },
    {
      "cell_type": "code",
      "source": [
        "def gradient_descent(Xiii,Y,theta,alpha,iterations2):\n",
        "  loss_history2 = np.zeros(iterations2)\n",
        "  for i in range(iterations2):\n",
        "    predictions = Xiii.dot(theta)\n",
        "    errors = np.subtract(predictions,Y)\n",
        "    sum_delta = (alpha/m) * Xiii.transpose().dot(errors);\n",
        "    theta = theta - sum_delta;\n",
        "    loss_history2[i] = compute_loss(Xiii,Y,theta)\n",
        "    \n",
        "  return theta, loss_history2"
      ],
      "metadata": {
        "id": "_zgYMGLqaNRD"
      },
      "execution_count": 282,
      "outputs": []
    },
    {
      "cell_type": "code",
      "source": [
        "theta = [0.,0.]\n",
        "iterations = 2000;\n",
        "iterations1 = 2000;\n",
        "iterations2 = 2000;\n",
        "alpha = 0.01;"
      ],
      "metadata": {
        "id": "qx0KzTMKTyrN"
      },
      "execution_count": 283,
      "outputs": []
    },
    {
      "cell_type": "code",
      "source": [
        "theta, loss_history = gradient_descent(Xi, Y, theta, alpha, iterations)\n",
        "print(theta)\n",
        "print(loss_history)"
      ],
      "metadata": {
        "colab": {
          "base_uri": "https://localhost:8080/"
        },
        "id": "UM3cxmvjXdjl",
        "outputId": "ee942fa7-844f-471a-b9e5-b12e1db201c5"
      },
      "execution_count": 284,
      "outputs": [
        {
          "output_type": "stream",
          "name": "stdout",
          "text": [
            "[ 5.8588686  -2.01145023]\n",
            "[5.48226715 5.44290965 5.40604087 ... 0.98560732 0.9856046  0.9856019 ]\n"
          ]
        }
      ]
    },
    {
      "cell_type": "code",
      "source": [
        "theta1, loss_history1 = gradient_descent(Xii, Y, theta, alpha, iterations)\n",
        "print(theta1)\n",
        "print(loss_history1)"
      ],
      "metadata": {
        "colab": {
          "base_uri": "https://localhost:8080/"
        },
        "id": "-651rShEaatc",
        "outputId": "b6108c0e-25c3-4b75-9022-fb98d2ed61a6"
      },
      "execution_count": 285,
      "outputs": [
        {
          "output_type": "stream",
          "name": "stdout",
          "text": [
            "[0.79899928 0.53311123]\n",
            "[7.96727661 7.85891569 7.76162885 ... 3.59987588 3.59987362 3.59987138]\n"
          ]
        }
      ]
    },
    {
      "cell_type": "code",
      "source": [
        "theta2, loss_history2 = gradient_descent(Xiii, Y, theta, alpha, iterations)\n",
        "print(theta2)\n",
        "print(loss_history2)"
      ],
      "metadata": {
        "colab": {
          "base_uri": "https://localhost:8080/"
        },
        "id": "3MVz_4zqaud6",
        "outputId": "850c66e6-cded-40de-9cc1-c48a5049bad2"
      },
      "execution_count": 286,
      "outputs": [
        {
          "output_type": "stream",
          "name": "stdout",
          "text": [
            "[ 2.90572746 -0.53405046]\n",
            "[5.0858363  5.05506964 5.02724087 ... 3.6296055  3.62960481 3.62960412]\n"
          ]
        }
      ]
    },
    {
      "cell_type": "markdown",
      "source": [
        "# **Problem 1b: Plot the final regression model and loss over the iteration per each explanatory variable.**"
      ],
      "metadata": {
        "id": "Wn9QEwRFWVn1"
      }
    },
    {
      "cell_type": "markdown",
      "source": [
        "Using the arrays from X_1,2,3 and Y, it's possible to plot the final regression model. To create a final regression model, fuplt.scatter and plt.plot functions are needed to plot the graph. "
      ],
      "metadata": {
        "id": "76zsE-csV7yi"
      }
    },
    {
      "cell_type": "code",
      "source": [
        "plt.scatter(Xi[:,1],Y, color='red',marker= '+')\n",
        "plt.plot(Xi[:,1],Xi.dot(theta),color='green')\n",
        "\n",
        "plt.rcParams[\"figure.figsize\"] = (10,6)\n",
        "plt.grid()\n",
        "plt.xlabel('X1')\n",
        "plt.ylabel('Y')\n",
        "plt.title('Final regression model')"
      ],
      "metadata": {
        "colab": {
          "base_uri": "https://localhost:8080/",
          "height": 421
        },
        "id": "WUR_7FP_X5lH",
        "outputId": "91f64526-7680-46e8-9e05-303c7d70a321"
      },
      "execution_count": 287,
      "outputs": [
        {
          "output_type": "execute_result",
          "data": {
            "text/plain": [
              "Text(0.5, 1.0, 'Final regression model')"
            ]
          },
          "metadata": {},
          "execution_count": 287
        },
        {
          "output_type": "display_data",
          "data": {
            "text/plain": [
              "<Figure size 720x432 with 1 Axes>"
            ],
            "image/png": "[encoded data removed]"
          },
          "metadata": {
            "needs_background": "light"
          }
        }
      ]
    },
    {
      "cell_type": "code",
      "source": [
        "plt.scatter(Xii[:,1],Y, color='Blue',marker= '+')\n",
        "plt.plot(Xii[:,1],Xii.dot(theta1),color='Purple')\n",
        "\n",
        "plt.rcParams[\"figure.figsize\"] = (10,6)\n",
        "plt.grid()\n",
        "plt.xlabel('X2')\n",
        "plt.ylabel('Y')\n",
        "plt.title('Final regression model')"
      ],
      "metadata": {
        "colab": {
          "base_uri": "https://localhost:8080/",
          "height": 421
        },
        "id": "BVhWtf2bWFAG",
        "outputId": "23485255-6c70-4135-ec53-4e9df9a9efd6"
      },
      "execution_count": 288,
      "outputs": [
        {
          "output_type": "execute_result",
          "data": {
            "text/plain": [
              "Text(0.5, 1.0, 'Final regression model')"
            ]
          },
          "metadata": {},
          "execution_count": 288
        },
        {
          "output_type": "display_data",
          "data": {
            "text/plain": [
              "<Figure size 720x432 with 1 Axes>"
            ],
            "image/png": "[encoded data removed]"
          },
          "metadata": {
            "needs_background": "light"
          }
        }
      ]
    },
    {
      "cell_type": "code",
      "source": [
        "plt.scatter(Xiii[:,1],Y, color='Orange',marker= '+')\n",
        "plt.plot(Xiii[:,1],Xiii.dot(theta2),color='Violet')\n",
        "\n",
        "plt.rcParams[\"figure.figsize\"] = (10,6)\n",
        "plt.grid()\n",
        "plt.xlabel('X3')\n",
        "plt.ylabel('Y')\n",
        "plt.title('Final regression model')"
      ],
      "metadata": {
        "colab": {
          "base_uri": "https://localhost:8080/",
          "height": 421
        },
        "id": "_HNaodgnWFR6",
        "outputId": "2deaf5e2-e8e2-47d4-dab2-f2e76a2eb3a6"
      },
      "execution_count": 289,
      "outputs": [
        {
          "output_type": "execute_result",
          "data": {
            "text/plain": [
              "Text(0.5, 1.0, 'Final regression model')"
            ]
          },
          "metadata": {},
          "execution_count": 289
        },
        {
          "output_type": "display_data",
          "data": {
            "text/plain": [
              "<Figure size 720x432 with 1 Axes>"
            ],
            "image/png": "[encoded data removed]"
          },
          "metadata": {
            "needs_background": "light"
          }
        }
      ]
    },
    {
      "cell_type": "markdown",
      "source": [
        "Using the arrays from iterations and loss_history, it's possible to plot the loss over the iteration model. To create a loss over the iteration model, plt.plot function are needed to plot the graph."
      ],
      "metadata": {
        "id": "sb77j06AXnwJ"
      }
    },
    {
      "cell_type": "code",
      "source": [
        "plt.plot(range(1,iterations + 1), loss_history, color='green')\n",
        "plt.rcParams[\"figure.figsize\"] = (10,6)\n",
        "plt.grid()\n",
        "plt.xlabel('Number of iterations')\n",
        "plt.ylabel('Cost')\n",
        "plt.title('loss over the iteration')"
      ],
      "metadata": {
        "colab": {
          "base_uri": "https://localhost:8080/",
          "height": 421
        },
        "id": "jdxgVGC_bR8X",
        "outputId": "6328ff1b-a66f-498b-dd9f-2348d1ee763e"
      },
      "execution_count": 290,
      "outputs": [
        {
          "output_type": "execute_result",
          "data": {
            "text/plain": [
              "Text(0.5, 1.0, 'loss over the iteration')"
            ]
          },
          "metadata": {},
          "execution_count": 290
        },
        {
          "output_type": "display_data",
          "data": {
            "text/plain": [
              "<Figure size 720x432 with 1 Axes>"
            ],
            "image/png": "[encoded data removed]"
          },
          "metadata": {
            "needs_background": "light"
          }
        }
      ]
    },
    {
      "cell_type": "code",
      "source": [
        "plt.plot(range(1,iterations1 + 1), loss_history1, color='Purple')\n",
        "plt.rcParams[\"figure.figsize\"] = (10,6)\n",
        "plt.grid()\n",
        "plt.xlabel('Number of iterations')\n",
        "plt.ylabel('Cost')\n",
        "plt.title('loss over the iteration')"
      ],
      "metadata": {
        "colab": {
          "base_uri": "https://localhost:8080/",
          "height": 421
        },
        "id": "LyIAtbt4Xpml",
        "outputId": "2c71d669-72a9-441e-de6c-6b53b8741b4a"
      },
      "execution_count": 291,
      "outputs": [
        {
          "output_type": "execute_result",
          "data": {
            "text/plain": [
              "Text(0.5, 1.0, 'loss over the iteration')"
            ]
          },
          "metadata": {},
          "execution_count": 291
        },
        {
          "output_type": "display_data",
          "data": {
            "text/plain": [
              "<Figure size 720x432 with 1 Axes>"
            ],
            "image/png": "[encoded data removed]"
          },
          "metadata": {
            "needs_background": "light"
          }
        }
      ]
    },
    {
      "cell_type": "code",
      "source": [
        "plt.plot(range(1,iterations2 + 1), loss_history2, color='Violet')\n",
        "plt.rcParams[\"figure.figsize\"] = (10,6)\n",
        "plt.grid()\n",
        "plt.xlabel('Number of iterations')\n",
        "plt.ylabel('Cost')\n",
        "plt.title('loss over the iteration')"
      ],
      "metadata": {
        "colab": {
          "base_uri": "https://localhost:8080/",
          "height": 421
        },
        "id": "r1SU6d1mXpzc",
        "outputId": "70071b39-a51d-4433-b3f7-5797655f1c14"
      },
      "execution_count": 292,
      "outputs": [
        {
          "output_type": "execute_result",
          "data": {
            "text/plain": [
              "Text(0.5, 1.0, 'loss over the iteration')"
            ]
          },
          "metadata": {},
          "execution_count": 292
        },
        {
          "output_type": "display_data",
          "data": {
            "text/plain": [
              "<Figure size 720x432 with 1 Axes>"
            ],
            "image/png": "[encoded data removed]"
          },
          "metadata": {
            "needs_background": "light"
          }
        }
      ]
    },
    {
      "cell_type": "markdown",
      "source": [
        "# **Problem 1c: Which explanatory variable has the lower loss (cost) for explaining the output (Y)?**"
      ],
      "metadata": {
        "id": "xLaRBzK8YuuS"
      }
    },
    {
      "cell_type": "markdown",
      "source": [
        "Between X_1, X_2 and X-3, X_1 has the lowest cost because in 1000 iterations, the cost is at 1. The learning rate for all three graphs is at 0.01. "
      ],
      "metadata": {
        "id": "b93MDOBaYvCt"
      }
    },
    {
      "cell_type": "markdown",
      "source": [
        "# **Problem 1d: Based on your training observations, describe the impact of the different learning rates on the final loss and number of training iteration.**"
      ],
      "metadata": {
        "id": "kqcFUztWhth4"
      }
    },
    {
      "cell_type": "markdown",
      "source": [
        "When changing the learning rate from 0.01 to 0.1, X_1 is still the lowest cost. However, all of the graphs has become smaller, it begin going constant in 100 iterations."
      ],
      "metadata": {
        "id": "3uN2q5IoiWk-"
      }
    },
    {
      "cell_type": "code",
      "source": [
        "alpha = 0.1"
      ],
      "metadata": {
        "id": "FGHYgBhlowRa"
      },
      "execution_count": 293,
      "outputs": []
    },
    {
      "cell_type": "code",
      "source": [
        "theta, loss_history = gradient_descent(Xi, Y, theta, alpha, iterations)\n",
        "print(theta)\n",
        "print(loss_history)"
      ],
      "metadata": {
        "colab": {
          "base_uri": "https://localhost:8080/"
        },
        "outputId": "1c1d939c-a8b0-4900-90c8-51f4b1de06a1",
        "id": "_KdB8e5tou_3"
      },
      "execution_count": 294,
      "outputs": [
        {
          "output_type": "stream",
          "name": "stdout",
          "text": [
            "[ 5.92794892 -2.03833663]\n",
            "[0.98557521 0.9855497  0.98552531 ... 0.98499308 0.98499308 0.98499308]\n"
          ]
        }
      ]
    },
    {
      "cell_type": "code",
      "source": [
        "theta1, loss_history1 = gradient_descent(Xii, Y, theta, alpha, iterations)\n",
        "print(theta1)\n",
        "print(loss_history1)"
      ],
      "metadata": {
        "colab": {
          "base_uri": "https://localhost:8080/"
        },
        "outputId": "49d39bb2-d09c-486f-c482-b0508d686f57",
        "id": "WbA3-IW8ou_4"
      },
      "execution_count": 295,
      "outputs": [
        {
          "output_type": "stream",
          "name": "stdout",
          "text": [
            "[0.73606043 0.55760761]\n",
            "[7.26987578 7.00288482 6.83790041 ... 3.59936602 3.59936602 3.59936602]\n"
          ]
        }
      ]
    },
    {
      "cell_type": "code",
      "source": [
        "theta2, loss_history2 = gradient_descent(Xiii, Y, theta, alpha, iterations)\n",
        "print(theta2)\n",
        "print(loss_history2)"
      ],
      "metadata": {
        "colab": {
          "base_uri": "https://localhost:8080/"
        },
        "outputId": "29086070-1039-4d2a-8e26-f1aab8ee9179",
        "id": "8gITp-Lcou_4"
      },
      "execution_count": 296,
      "outputs": [
        {
          "output_type": "stream",
          "name": "stdout",
          "text": [
            "[ 2.8714221  -0.52048288]\n",
            "[4.91180829 4.82294196 4.764669   ... 3.62945112 3.62945112 3.62945112]\n"
          ]
        }
      ]
    },
    {
      "cell_type": "code",
      "source": [
        "plt.plot(range(1,iterations + 1), loss_history, color='green')\n",
        "plt.rcParams[\"figure.figsize\"] = (10,6)\n",
        "plt.grid()\n",
        "plt.xlabel('Number of iterations')\n",
        "plt.ylabel('Cost')\n",
        "plt.title('loss over the iteration')"
      ],
      "metadata": {
        "colab": {
          "base_uri": "https://localhost:8080/",
          "height": 421
        },
        "outputId": "0a7aa90f-de08-4e47-f299-a3526e6a413e",
        "id": "m03oq7x5o5uY"
      },
      "execution_count": 297,
      "outputs": [
        {
          "output_type": "execute_result",
          "data": {
            "text/plain": [
              "Text(0.5, 1.0, 'loss over the iteration')"
            ]
          },
          "metadata": {},
          "execution_count": 297
        },
        {
          "output_type": "display_data",
          "data": {
            "text/plain": [
              "<Figure size 720x432 with 1 Axes>"
            ],
            "image/png": "[encoded data removed]"
          },
          "metadata": {
            "needs_background": "light"
          }
        }
      ]
    },
    {
      "cell_type": "code",
      "source": [
        "plt.plot(range(1,iterations1 + 1), loss_history1, color='Purple')\n",
        "plt.rcParams[\"figure.figsize\"] = (10,6)\n",
        "plt.grid()\n",
        "plt.xlabel('Number of iterations')\n",
        "plt.ylabel('Cost')\n",
        "plt.title('loss over the iteration')"
      ],
      "metadata": {
        "colab": {
          "base_uri": "https://localhost:8080/",
          "height": 421
        },
        "outputId": "dc335be3-f2ef-4561-b24b-c5f75dadd4ab",
        "id": "Gwuj8MNjo5uY"
      },
      "execution_count": 298,
      "outputs": [
        {
          "output_type": "execute_result",
          "data": {
            "text/plain": [
              "Text(0.5, 1.0, 'loss over the iteration')"
            ]
          },
          "metadata": {},
          "execution_count": 298
        },
        {
          "output_type": "display_data",
          "data": {
            "text/plain": [
              "<Figure size 720x432 with 1 Axes>"
            ],
            "image/png": "[encoded data removed]"
          },
          "metadata": {
            "needs_background": "light"
          }
        }
      ]
    },
    {
      "cell_type": "code",
      "source": [
        "plt.plot(range(1,iterations2 + 1), loss_history2, color='Violet')\n",
        "plt.rcParams[\"figure.figsize\"] = (10,6)\n",
        "plt.grid()\n",
        "plt.xlabel('Number of iterations')\n",
        "plt.ylabel('Cost')\n",
        "plt.title('loss over the iteration')"
      ],
      "metadata": {
        "colab": {
          "base_uri": "https://localhost:8080/",
          "height": 421
        },
        "outputId": "c8404934-3823-4525-89b8-76055f25d8c8",
        "id": "vrYZLNJWo5uZ"
      },
      "execution_count": 299,
      "outputs": [
        {
          "output_type": "execute_result",
          "data": {
            "text/plain": [
              "Text(0.5, 1.0, 'loss over the iteration')"
            ]
          },
          "metadata": {},
          "execution_count": 299
        },
        {
          "output_type": "display_data",
          "data": {
            "text/plain": [
              "<Figure size 720x432 with 1 Axes>"
            ],
            "image/png": "[encoded data removed]"
          },
          "metadata": {
            "needs_background": "light"
          }
        }
      ]
    },
    {
      "cell_type": "markdown",
      "source": [
        "# **Problem 2a and b: Report the final linear model you found the best and plot loss over the iteration.**"
      ],
      "metadata": {
        "id": "RpyRSFO1pta-"
      }
    },
    {
      "cell_type": "markdown",
      "source": [
        "Using the arrays from X_1,2,3 and Y, it's possible to plot the final regression model. To create a final regression model, fuplt.scatter and plt.plot functions are needed to plot the graph."
      ],
      "metadata": {
        "id": "SE8jA4fLt7wQ"
      }
    },
    {
      "cell_type": "code",
      "source": [
        "theta = [0.,0.]\n",
        "iterations = 2000;\n",
        "iterations1 = 2000;\n",
        "iterations2 = 2000;\n",
        "alpha = 0.01;"
      ],
      "metadata": {
        "id": "6C7ArPd6qOHE"
      },
      "execution_count": 300,
      "outputs": []
    },
    {
      "cell_type": "code",
      "source": [
        "theta, loss_history = gradient_descent(Xi, Y, theta, alpha, iterations)\n",
        "print(theta)\n",
        "print(loss_history)"
      ],
      "metadata": {
        "colab": {
          "base_uri": "https://localhost:8080/"
        },
        "outputId": "e4dc0765-d736-4f66-a764-54a20d5ec842",
        "id": "OSR7XOKLqOHE"
      },
      "execution_count": 301,
      "outputs": [
        {
          "output_type": "stream",
          "name": "stdout",
          "text": [
            "[ 5.8588686  -2.01145023]\n",
            "[5.48226715 5.44290965 5.40604087 ... 0.98560732 0.9856046  0.9856019 ]\n"
          ]
        }
      ]
    },
    {
      "cell_type": "code",
      "source": [
        "theta1, loss_history1 = gradient_descent(Xii, Y, theta, alpha, iterations)\n",
        "print(theta1)\n",
        "print(loss_history1)"
      ],
      "metadata": {
        "colab": {
          "base_uri": "https://localhost:8080/"
        },
        "outputId": "35d87cba-d10c-4c52-f866-b69e1042d13e",
        "id": "m6XM7iBNqOHE"
      },
      "execution_count": 302,
      "outputs": [
        {
          "output_type": "stream",
          "name": "stdout",
          "text": [
            "[0.79899928 0.53311123]\n",
            "[7.96727661 7.85891569 7.76162885 ... 3.59987588 3.59987362 3.59987138]\n"
          ]
        }
      ]
    },
    {
      "cell_type": "code",
      "source": [
        "theta2, loss_history2 = gradient_descent(Xiii, Y, theta, alpha, iterations)\n",
        "print(theta2)\n",
        "print(loss_history2)"
      ],
      "metadata": {
        "colab": {
          "base_uri": "https://localhost:8080/"
        },
        "outputId": "89ef308e-8e28-470e-92ee-198b8560eebc",
        "id": "A3mGAztrqOHE"
      },
      "execution_count": 303,
      "outputs": [
        {
          "output_type": "stream",
          "name": "stdout",
          "text": [
            "[ 2.90572746 -0.53405046]\n",
            "[5.0858363  5.05506964 5.02724087 ... 3.6296055  3.62960481 3.62960412]\n"
          ]
        }
      ]
    },
    {
      "cell_type": "markdown",
      "source": [
        "The best final linear model is X3, because it's the cosest to follow the dots. "
      ],
      "metadata": {
        "id": "pKjCerBA7PCe"
      }
    },
    {
      "cell_type": "code",
      "source": [
        "plt.scatter(Xi[:,1],Y, color='red',marker= '+')\n",
        "plt.plot(Xi[:,1],Xi.dot(theta),color='green')\n",
        "plt.scatter(Xii[:,1],Y, color='Blue',marker= '+')\n",
        "plt.plot(Xii[:,1],Xii.dot(theta1),color='Purple')\n",
        "plt.scatter(Xiii[:,1],Y, color='Orange',marker= '+')\n",
        "plt.plot(Xiii[:,1],Xiii.dot(theta2),color='Violet')\n",
        "\n",
        "plt.rcParams[\"figure.figsize\"] = (10,6)\n",
        "plt.grid()\n",
        "plt.xlabel('X1, X2, and X3')\n",
        "plt.ylabel('Y')\n",
        "plt.title('Final regression model')"
      ],
      "metadata": {
        "colab": {
          "base_uri": "https://localhost:8080/",
          "height": 421
        },
        "id": "WAV-j9sgp7AL",
        "outputId": "ed2f3a77-8b3c-4dc7-a078-4468fa07f6bb"
      },
      "execution_count": 304,
      "outputs": [
        {
          "output_type": "execute_result",
          "data": {
            "text/plain": [
              "Text(0.5, 1.0, 'Final regression model')"
            ]
          },
          "metadata": {},
          "execution_count": 304
        },
        {
          "output_type": "display_data",
          "data": {
            "text/plain": [
              "<Figure size 720x432 with 1 Axes>"
            ],
            "image/png": "[encoded data removed]"
          },
          "metadata": {
            "needs_background": "light"
          }
        }
      ]
    },
    {
      "cell_type": "code",
      "source": [
        "plt.plot(range(1,iterations + 1), loss_history, color='green')\n",
        "plt.plot(range(1,iterations1 + 1), loss_history1, color='Purple')\n",
        "plt.plot(range(1,iterations2 + 1), loss_history2, color='Violet')\n",
        "plt.rcParams[\"figure.figsize\"] = (10,6)\n",
        "plt.grid()\n",
        "plt.xlabel('Number of iterations')\n",
        "plt.ylabel('Cost')\n",
        "plt.title('loss over the iteration')"
      ],
      "metadata": {
        "colab": {
          "base_uri": "https://localhost:8080/",
          "height": 421
        },
        "id": "XHf9CE_Lqy-Z",
        "outputId": "b71a47fd-7b5c-4019-b183-d464f867a364"
      },
      "execution_count": 305,
      "outputs": [
        {
          "output_type": "execute_result",
          "data": {
            "text/plain": [
              "Text(0.5, 1.0, 'loss over the iteration')"
            ]
          },
          "metadata": {},
          "execution_count": 305
        },
        {
          "output_type": "display_data",
          "data": {
            "text/plain": [
              "<Figure size 720x432 with 1 Axes>"
            ],
            "image/png": "[encoded data removed]"
          },
          "metadata": {
            "needs_background": "light"
          }
        }
      ]
    },
    {
      "cell_type": "markdown",
      "source": [
        "# **Problem 2c: Based on your training observations, describe the impact of the different learning rates on the final loss and number of training iteration.**"
      ],
      "metadata": {
        "id": "b-PkTwwm-Dvz"
      }
    },
    {
      "cell_type": "markdown",
      "source": [
        "When changing the learning rate from 0.01 to 0.1, X_1 is still the lowest cost. However, all of the graphs has become smaller, it begin going constant in 100 iterations."
      ],
      "metadata": {
        "id": "JXtuJgwL-gj1"
      }
    },
    {
      "cell_type": "code",
      "source": [
        "alpha = 0.1"
      ],
      "metadata": {
        "id": "gQs_oKWc-J77"
      },
      "execution_count": 306,
      "outputs": []
    },
    {
      "cell_type": "code",
      "source": [
        "theta, loss_history = gradient_descent(Xi, Y, theta, alpha, iterations)\n",
        "print(theta)\n",
        "print(loss_history)"
      ],
      "metadata": {
        "colab": {
          "base_uri": "https://localhost:8080/"
        },
        "outputId": "91e951a1-7667-4ce9-dfa1-0bd65d106f42",
        "id": "7E5UXUY--J77"
      },
      "execution_count": 307,
      "outputs": [
        {
          "output_type": "stream",
          "name": "stdout",
          "text": [
            "[ 5.92794892 -2.03833663]\n",
            "[0.98557521 0.9855497  0.98552531 ... 0.98499308 0.98499308 0.98499308]\n"
          ]
        }
      ]
    },
    {
      "cell_type": "code",
      "source": [
        "theta1, loss_history1 = gradient_descent(Xii, Y, theta, alpha, iterations)\n",
        "print(theta1)\n",
        "print(loss_history1)"
      ],
      "metadata": {
        "colab": {
          "base_uri": "https://localhost:8080/"
        },
        "outputId": "e4778986-ed95-4f70-bc07-89a117dc1d6d",
        "id": "ic8g9JkE-J78"
      },
      "execution_count": 308,
      "outputs": [
        {
          "output_type": "stream",
          "name": "stdout",
          "text": [
            "[0.73606043 0.55760761]\n",
            "[7.26987578 7.00288482 6.83790041 ... 3.59936602 3.59936602 3.59936602]\n"
          ]
        }
      ]
    },
    {
      "cell_type": "code",
      "source": [
        "theta2, loss_history2 = gradient_descent(Xiii, Y, theta, alpha, iterations)\n",
        "print(theta2)\n",
        "print(loss_history2)"
      ],
      "metadata": {
        "colab": {
          "base_uri": "https://localhost:8080/"
        },
        "outputId": "9dc93aa5-cefd-4067-8d64-8fccc9a5f015",
        "id": "bKmY-BuL-J78"
      },
      "execution_count": 309,
      "outputs": [
        {
          "output_type": "stream",
          "name": "stdout",
          "text": [
            "[ 2.8714221  -0.52048288]\n",
            "[4.91180829 4.82294196 4.764669   ... 3.62945112 3.62945112 3.62945112]\n"
          ]
        }
      ]
    },
    {
      "cell_type": "code",
      "source": [
        "plt.plot(range(1,iterations + 1), loss_history, color='green')\n",
        "plt.plot(range(1,iterations1 + 1), loss_history1, color='Purple')\n",
        "plt.plot(range(1,iterations2 + 1), loss_history2, color='Violet')\n",
        "plt.rcParams[\"figure.figsize\"] = (10,6)\n",
        "plt.grid()\n",
        "plt.xlabel('Number of iterations')\n",
        "plt.ylabel('Cost')\n",
        "plt.title('loss over the iteration')"
      ],
      "metadata": {
        "colab": {
          "base_uri": "https://localhost:8080/",
          "height": 421
        },
        "outputId": "8f406e59-34ed-4444-bc87-6beb44bfd783",
        "id": "NAhrzeat-J78"
      },
      "execution_count": 311,
      "outputs": [
        {
          "output_type": "execute_result",
          "data": {
            "text/plain": [
              "Text(0.5, 1.0, 'loss over the iteration')"
            ]
          },
          "metadata": {},
          "execution_count": 311
        },
        {
          "output_type": "display_data",
          "data": {
            "text/plain": [
              "<Figure size 720x432 with 1 Axes>"
            ],
            "image/png": "[encoded data removed]"
          },
          "metadata": {
            "needs_background": "light"
          }
        }
      ]
    },
    {
      "cell_type": "markdown",
      "source": [
        "https://github.com/EdiVilleda/Edi.git"
      ],
      "metadata": {
        "id": "-6AWtb8C9iL-"
      }
    }
  ]
}