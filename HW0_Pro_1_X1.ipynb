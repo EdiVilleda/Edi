{
  "nbformat": 4,
  "nbformat_minor": 0,
  "metadata": {
    "colab": {
      "provenance": [],
      "authorship_tag": "ABX9TyMBUlzvbcs84nUypDJkiaXR",
      "include_colab_link": true
    },
    "kernelspec": {
      "name": "python3",
      "display_name": "Python 3"
    },
    "language_info": {
      "name": "python"
    }
  },
  "cells": [
    {
      "cell_type": "markdown",
      "metadata": {
        "id": "view-in-github",
        "colab_type": "text"
      },
      "source": [
        "<a href=\"https://colab.research.google.com/github/EdiVilleda/Edi/blob/main/HW0_Pro_1_X1.ipynb\" target=\"_parent\"><img src=\"https://colab.research.google.com/assets/colab-badge.svg\" alt=\"Open In Colab\"/></a>"
      ]
    },
    {
      "cell_type": "code",
      "source": [
        "from google.colab import drive\n",
        "drive.mount('/content/drive')"
      ],
      "metadata": {
        "colab": {
          "base_uri": "https://localhost:8080/"
        },
        "id": "gEng1g33yEk8",
        "outputId": "0f08ca1d-bb7b-46dd-e2b8-e6dbb9791fb9"
      },
      "execution_count": null,
      "outputs": [
        {
          "output_type": "stream",
          "name": "stdout",
          "text": [
            "Mounted at /content/drive\n"
          ]
        }
      ]
    },
    {
      "cell_type": "code",
      "source": [
        "import pandas as pd\n",
        "import numpy as np\n",
        "import matplotlib.pyplot as plt\n",
        "from sklearn import linear_model\n",
        "\n",
        "df = pd.read_csv(\"/content/D3.csv\")\n",
        "print(df)\n"
      ],
      "metadata": {
        "colab": {
          "base_uri": "https://localhost:8080/"
        },
        "id": "4YebUlm3dBGB",
        "outputId": "cc08d19b-5765-4eb3-a43a-6d72063fd601"
      },
      "execution_count": null,
      "outputs": [
        {
          "output_type": "stream",
          "name": "stdout",
          "text": [
            "          X1        X2        X3         Y\n",
            "0   0.000000  3.440000  0.440000  4.387545\n",
            "1   0.040404  0.134949  0.888485  2.679650\n",
            "2   0.080808  0.829899  1.336970  2.968490\n",
            "3   0.121212  1.524848  1.785455  3.254065\n",
            "4   0.161616  2.219798  2.233939  3.536375\n",
            "..       ...       ...       ...       ...\n",
            "95  3.838384  1.460202  3.046061 -4.440595\n",
            "96  3.878788  2.155152  3.494545 -4.458663\n",
            "97  3.919192  2.850101  3.943030 -4.479995\n",
            "98  3.959596  3.545051  0.391515 -3.304593\n",
            "99  4.000000  0.240000  0.840000 -5.332455\n",
            "\n",
            "[100 rows x 4 columns]\n"
          ]
        }
      ]
    },
    {
      "cell_type": "code",
      "source": [
        "dataset = df.values[:,:]\n",
        "print(\"dataset =\",dataset[:5,0:]) "
      ],
      "metadata": {
        "colab": {
          "base_uri": "https://localhost:8080/"
        },
        "id": "v3Tnc5wrA0fG",
        "outputId": "e7bc1eb6-acdc-45e2-c211-26e8a289a6bc"
      },
      "execution_count": null,
      "outputs": [
        {
          "output_type": "stream",
          "name": "stdout",
          "text": [
            "dataset = [[0.         3.44       0.44       4.38754501]\n",
            " [0.04040404 0.1349495  0.88848485 2.6796499 ]\n",
            " [0.08080808 0.82989899 1.3369697  2.96848981]\n",
            " [0.12121212 1.52484848 1.78545454 3.25406475]\n",
            " [0.16161616 2.21979798 2.23393939 3.53637472]]\n"
          ]
        }
      ]
    },
    {
      "cell_type": "code",
      "source": [
        "Xi = df.values[:, 0]\n",
        "Y = df.values[:, 3]\n",
        "len(Xi),len(Y)\n",
        "m = len(Xi)"
      ],
      "metadata": {
        "id": "tA0NRkcW-9nf"
      },
      "execution_count": null,
      "outputs": []
    },
    {
      "cell_type": "code",
      "source": [
        "print(\"X1 =\", Xi [: 5])\n",
        "print(\"Y =\", Y[: 5])"
      ],
      "metadata": {
        "colab": {
          "base_uri": "https://localhost:8080/"
        },
        "id": "Z3HSIHY7_XfA",
        "outputId": "1055d5d0-5114-4c3f-b713-061ec04cc0f5"
      },
      "execution_count": null,
      "outputs": [
        {
          "output_type": "stream",
          "name": "stdout",
          "text": [
            "X1 = [0.         0.04040404 0.08080808 0.12121212 0.16161616]\n",
            "Y = [4.38754501 2.6796499  2.96848981 3.25406475 3.53637472]\n"
          ]
        }
      ]
    },
    {
      "cell_type": "code",
      "source": [
        "plt.scatter(Xi,Y, color='red',marker= '+')\n",
        "plt.grid()\n",
        "plt.rcParams[\"figure.figsize\"] = (10,6)\n",
        "plt.xlabel('X1')\n",
        "plt.ylabel('Y')\n"
      ],
      "metadata": {
        "colab": {
          "base_uri": "https://localhost:8080/",
          "height": 407
        },
        "id": "SfEgiWycAckT",
        "outputId": "211dd576-6e0a-470d-d502-70e99a7cbf7d"
      },
      "execution_count": null,
      "outputs": [
        {
          "output_type": "execute_result",
          "data": {
            "text/plain": [
              "Text(0, 0.5, 'Y')"
            ]
          },
          "metadata": {},
          "execution_count": 30
        },
        {
          "output_type": "display_data",
          "data": {
            "text/plain": [
              "<Figure size 720x432 with 1 Axes>"
            ],
            "image/png": "[encoded data removed]"
          },
          "metadata": {
            "needs_background": "light"
          }
        }
      ]
    },
    {
      "cell_type": "code",
      "source": [
        "m = len(Xi)\n",
        "X_1 = Xi.reshape(m,1)\n",
        "print(\"X_1 =\",X_1[:5,:])"
      ],
      "metadata": {
        "colab": {
          "base_uri": "https://localhost:8080/"
        },
        "id": "etAK_qXdDyBr",
        "outputId": "44c30693-e0dc-4acf-ebf1-f6bfc0bd5d1a"
      },
      "execution_count": null,
      "outputs": [
        {
          "output_type": "stream",
          "name": "stdout",
          "text": [
            "X_1 = [[0.        ]\n",
            " [0.04040404]\n",
            " [0.08080808]\n",
            " [0.12121212]\n",
            " [0.16161616]]\n"
          ]
        }
      ]
    },
    {
      "cell_type": "code",
      "source": [
        "m = len(Xi)\n",
        "X_0 = np.ones((m,1))\n",
        "X_0[:5],len(X_0)"
      ],
      "metadata": {
        "colab": {
          "base_uri": "https://localhost:8080/"
        },
        "id": "O674vB0BFdjL",
        "outputId": "289994e3-466f-4d16-aa00-34809d9a75f3"
      },
      "execution_count": null,
      "outputs": [
        {
          "output_type": "execute_result",
          "data": {
            "text/plain": [
              "(array([[1.],\n",
              "        [1.],\n",
              "        [1.],\n",
              "        [1.],\n",
              "        [1.]]), 100)"
            ]
          },
          "metadata": {},
          "execution_count": 33
        }
      ]
    },
    {
      "cell_type": "code",
      "source": [
        "Xi = np.hstack((X_0,X_1))\n",
        "Xi[:5]"
      ],
      "metadata": {
        "colab": {
          "base_uri": "https://localhost:8080/"
        },
        "id": "otDca5xfGJeu",
        "outputId": "ffbce2f9-d71c-4921-a9ba-4b02db7cf2c6"
      },
      "execution_count": null,
      "outputs": [
        {
          "output_type": "execute_result",
          "data": {
            "text/plain": [
              "array([[1.        , 0.        ],\n",
              "       [1.        , 0.04040404],\n",
              "       [1.        , 0.08080808],\n",
              "       [1.        , 0.12121212],\n",
              "       [1.        , 0.16161616]])"
            ]
          },
          "metadata": {},
          "execution_count": 34
        }
      ]
    },
    {
      "cell_type": "code",
      "source": [
        "theta = np.zeros((2,1))\n",
        "theta"
      ],
      "metadata": {
        "colab": {
          "base_uri": "https://localhost:8080/"
        },
        "id": "sB3XGsWEHkSm",
        "outputId": "dfb5d86d-d9c6-47e6-d44a-4bae02736fd6"
      },
      "execution_count": null,
      "outputs": [
        {
          "output_type": "execute_result",
          "data": {
            "text/plain": [
              "array([[0.],\n",
              "       [0.]])"
            ]
          },
          "metadata": {},
          "execution_count": 35
        }
      ]
    },
    {
      "cell_type": "code",
      "source": [
        "def compute_loss(Xi,Y,theta):\n",
        "\n",
        "  predictions = Xi.dot(theta)\n",
        "\n",
        "  errors = np.subtract(predictions,Y)\n",
        "  sqrErrors = np.square(errors)\n",
        "  J = 1/(2 * m) * np.sum(sqrErrors)\n",
        "  return J"
      ],
      "metadata": {
        "id": "c3LFHQaiIaS4"
      },
      "execution_count": null,
      "outputs": []
    },
    {
      "cell_type": "code",
      "source": [
        "cost = compute_loss(Xi,Y,theta)\n",
        "print(cost)"
      ],
      "metadata": {
        "colab": {
          "base_uri": "https://localhost:8080/"
        },
        "id": "3mrZtwqiMimz",
        "outputId": "1a036f6a-6708-4247-9812-58c248cc5298"
      },
      "execution_count": null,
      "outputs": [
        {
          "output_type": "stream",
          "name": "stdout",
          "text": [
            "552.4438459196241\n"
          ]
        }
      ]
    },
    {
      "cell_type": "code",
      "source": [
        "def gradient_descent(Xii,Y,theta,alpha,iterations):\n",
        "  loss_history = np.zeros(iterations)\n",
        "  for i in range(iterations):\n",
        "    predictions = Xi.dot(theta)\n",
        "    errors = np.subtract(predictions,Y)\n",
        "    sum_delta = (alpha/m) * Xi.transpose().dot(errors);\n",
        "    theta = theta - sum_delta;\n",
        "    loss_history[i] = compute_loss(Xi,Y,theta)\n",
        "    \n",
        "  return theta, loss_history"
      ],
      "metadata": {
        "id": "GpcLSyOUMyth"
      },
      "execution_count": null,
      "outputs": []
    },
    {
      "cell_type": "code",
      "source": [
        "theta = [0.,0.]\n",
        "iterations = 2000;\n",
        "alpha = 0.01;"
      ],
      "metadata": {
        "id": "qx0KzTMKTyrN"
      },
      "execution_count": null,
      "outputs": []
    },
    {
      "cell_type": "code",
      "source": [
        "theta, loss_history = gradient_descent(Xi, Y, theta, alpha, iterations)\n",
        "print(theta)\n",
        "print(loss_history)"
      ],
      "metadata": {
        "colab": {
          "base_uri": "https://localhost:8080/"
        },
        "id": "UM3cxmvjXdjl",
        "outputId": "f7163e88-c351-47fb-e7ff-81a2baac6161"
      },
      "execution_count": null,
      "outputs": [
        {
          "output_type": "stream",
          "name": "stdout",
          "text": [
            "[ 5.8588686  -2.01145023]\n",
            "[5.48226715 5.44290965 5.40604087 ... 0.98560732 0.9856046  0.9856019 ]\n"
          ]
        }
      ]
    },
    {
      "cell_type": "code",
      "source": [
        "plt.scatter(Xi[:,1],Y, color='red',marker= '+')\n",
        "plt.plot(Xi[:,1],Xi.dot(theta),color='green')\n",
        "\n",
        "plt.rcParams[\"figure.figsize\"] = (10,6)\n",
        "plt.grid()\n",
        "plt.xlabel('X1')\n",
        "plt.ylabel('Y')"
      ],
      "metadata": {
        "colab": {
          "base_uri": "https://localhost:8080/",
          "height": 405
        },
        "id": "WUR_7FP_X5lH",
        "outputId": "b438c5e5-377f-44a8-de1e-a470df4757c8"
      },
      "execution_count": null,
      "outputs": [
        {
          "output_type": "execute_result",
          "data": {
            "text/plain": [
              "Text(0, 0.5, 'Y')"
            ]
          },
          "metadata": {},
          "execution_count": 41
        },
        {
          "output_type": "display_data",
          "data": {
            "text/plain": [
              "<Figure size 720x432 with 1 Axes>"
            ],
            "image/png": "[encoded data removed]"
          },
          "metadata": {
            "needs_background": "light"
          }
        }
      ]
    },
    {
      "cell_type": "code",
      "source": [
        "plt.plot(range(1,iterations + 1), loss_history, color='blue')\n",
        "plt.rcParams[\"figure.figsize\"] = (10,6)\n",
        "plt.grid()"
      ],
      "metadata": {
        "colab": {
          "base_uri": "https://localhost:8080/",
          "height": 374
        },
        "id": "jdxgVGC_bR8X",
        "outputId": "3837ea37-c494-4bfa-f4f6-ea8008609943"
      },
      "execution_count": null,
      "outputs": [
        {
          "output_type": "display_data",
          "data": {
            "text/plain": [
              "<Figure size 720x432 with 1 Axes>"
            ],
            "image/png": "[encoded data removed]"
          },
          "metadata": {
            "needs_background": "light"
          }
        }
      ]
    }
  ]
}