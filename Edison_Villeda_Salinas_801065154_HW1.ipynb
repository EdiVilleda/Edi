{
  "nbformat": 4,
  "nbformat_minor": 0,
  "metadata": {
    "colab": {
      "provenance": [],
      "authorship_tag": "ABX9TyPzxywKXghjD04lCO9lHODL",
      "include_colab_link": true
    },
    "kernelspec": {
      "name": "python3",
      "display_name": "Python 3"
    },
    "language_info": {
      "name": "python"
    }
  },
  "cells": [
    {
      "cell_type": "markdown",
      "metadata": {
        "id": "view-in-github",
        "colab_type": "text"
      },
      "source": [
        "<a href=\"https://colab.research.google.com/github/EdiVilleda/Edi/blob/main/Edison_Villeda_Salinas_801065154_HW1.ipynb\" target=\"_parent\"><img src=\"https://colab.research.google.com/assets/colab-badge.svg\" alt=\"Open In Colab\"/></a>"
      ]
    },
    {
      "cell_type": "markdown",
      "source": [
        "# **Homework 1 by Edison Villeda-Salinas**"
      ],
      "metadata": {
        "id": "356l_9-0Waq-"
      }
    },
    {
      "cell_type": "markdown",
      "source": [
        "https://github.com/EdiVilleda/Edi.git"
      ],
      "metadata": {
        "id": "jsHqLZmUWnvH"
      }
    },
    {
      "cell_type": "markdown",
      "source": [
        "**Problem 1 (a)**"
      ],
      "metadata": {
        "id": "gOPtTUkKBecS"
      }
    },
    {
      "cell_type": "markdown",
      "source": [
        "For problem a, write a code where X has the input variables for area, bedrooms, bathrooms, stories, and parking. Y will have the price variable. Then use the train_test_split to split the variable in 20% and training to 80%. "
      ],
      "metadata": {
        "id": "_HMylayj8Ywi"
      }
    },
    {
      "cell_type": "code",
      "execution_count": 21,
      "metadata": {
        "id": "HQDI65bpsAMT"
      },
      "outputs": [],
      "source": [
        "import numpy as np\n",
        "import pandas as pd\n",
        "from sklearn.model_selection import train_test_split\n",
        "import matplotlib.pyplot as plt\n",
        "from sklearn.linear_model import LinearRegression, Ridge, Lasso\n",
        "from sklearn.preprocessing import StandardScaler, MinMaxScaler"
      ]
    },
    {
      "cell_type": "code",
      "source": [
        "data = pd.read_csv('Housing.csv')\n",
        "\n",
        "X = data[['area', 'bedrooms', 'bathrooms', 'stories', 'parking']].values\n",
        "y = data['price'].values\n",
        "print('X =', X[: 5])\n",
        "print('Y =',y[: 5])"
      ],
      "metadata": {
        "id": "LMl4eYhesHVU",
        "colab": {
          "base_uri": "https://localhost:8080/"
        },
        "outputId": "e68eca8d-e4e6-489a-f327-4885eb08970a"
      },
      "execution_count": 22,
      "outputs": [
        {
          "output_type": "stream",
          "name": "stdout",
          "text": [
            "X = [[7420    4    2    3    2]\n",
            " [8960    4    4    4    3]\n",
            " [9960    3    2    2    2]\n",
            " [7500    4    2    2    3]\n",
            " [7420    4    1    2    2]]\n",
            "Y = [13300000 12250000 12250000 12215000 11410000]\n"
          ]
        }
      ]
    },
    {
      "cell_type": "code",
      "source": [
        "X_train, X_val, y_train, y_val = train_test_split(X, y, test_size=0.2)"
      ],
      "metadata": {
        "id": "lNk-dylKsQFd"
      },
      "execution_count": 23,
      "outputs": []
    },
    {
      "cell_type": "markdown",
      "source": [
        "Now use the gradient descent based algorithms to find the new theta. θ_j = θ_j - α*(1/m)∑(h*(x^i)-(y^i))*x_j. \n",
        "Also, using Mean Squared Error (MSE) you'll able to find the loss training and validation. "
      ],
      "metadata": {
        "id": "s_Mv_tkGJD8o"
      }
    },
    {
      "cell_type": "code",
      "source": [
        "def gradient_descent(X, y, alpha, num_iters):\n",
        "    m, n = X.shape\n",
        "    theta = np.zeros(n)\n",
        "    losses_train = []\n",
        "    losses_val = []\n",
        "    for i in range(num_iters):\n",
        "        h = X.dot(theta)\n",
        "        theta = theta - alpha * (1/m) * (X.T.dot(h-y))\n",
        "        loss_train = np.sum((h-y)**2) / (2*m)\n",
        "        losses_train.append(loss_train)\n",
        "        h_val = X_val.dot(theta)\n",
        "        loss_val = np.sum((h_val-y_val)**2) / (2*X_val.shape[0])\n",
        "        losses_val.append(loss_val)\n",
        "    return theta, losses_train, losses_val\n"
      ],
      "metadata": {
        "id": "UDoU9ERwsxk1"
      },
      "execution_count": 24,
      "outputs": []
    },
    {
      "cell_type": "code",
      "source": [
        "theta, losses_train, losess_val = gradient_descent(X_train, y_train, 0.1, 100)"
      ],
      "metadata": {
        "colab": {
          "base_uri": "https://localhost:8080/"
        },
        "id": "-fj6yTs6s4b0",
        "outputId": "e9a48e20-abef-479c-995e-abafc9b9ab64"
      },
      "execution_count": 25,
      "outputs": [
        {
          "output_type": "stream",
          "name": "stderr",
          "text": [
            "<ipython-input-24-8de067195033>:12: RuntimeWarning: overflow encountered in square\n",
            "  loss_val = np.sum((h_val-y_val)**2) / (2*X_val.shape[0])\n",
            "<ipython-input-24-8de067195033>:9: RuntimeWarning: overflow encountered in square\n",
            "  loss_train = np.sum((h-y)**2) / (2*m)\n",
            "<ipython-input-24-8de067195033>:8: RuntimeWarning: invalid value encountered in subtract\n",
            "  theta = theta - alpha * (1/m) * (X.T.dot(h-y))\n"
          ]
        }
      ]
    },
    {
      "cell_type": "code",
      "source": [
        "\n",
        "plt.plot(losses_train, label='Training Loss',marker= '*')\n",
        "plt.plot(losess_val, label='Validation Loss')\n",
        "plt.xlabel('Iterations')\n",
        "plt.ylabel('Loss')\n",
        "plt.legend()\n",
        "plt.show()"
      ],
      "metadata": {
        "colab": {
          "base_uri": "https://localhost:8080/",
          "height": 290
        },
        "id": "BzgdUQfHtCzL",
        "outputId": "53207b80-d90d-4d49-c8d9-e9661a2b24c1"
      },
      "execution_count": 26,
      "outputs": [
        {
          "output_type": "display_data",
          "data": {
            "text/plain": [
              "<Figure size 432x288 with 1 Axes>"
            ],
            "image/png": "[encoded data removed]"
          },
          "metadata": {
            "needs_background": "light"
          }
        }
      ]
    },
    {
      "cell_type": "markdown",
      "source": [
        "**Problem 1 (b)**"
      ],
      "metadata": {
        "id": "oDDL9SfcOdZN"
      }
    },
    {
      "cell_type": "markdown",
      "source": [
        "For problem b, write a code where X has the input variables for Area, bedrooms, bathrooms, stories, main road, guestroom, basement, hot water heating, air conditioning, parking, and prefarea. Y will have the price variable. Then use the train_test_split to split the variable in 20% and training to 80%."
      ],
      "metadata": {
        "id": "jPvz81UfLnWx"
      }
    },
    {
      "cell_type": "code",
      "source": [
        "data['mainroad'] = data['mainroad'].map({'yes': 1, 'no': 0})\n",
        "data['guestroom'] = data['guestroom'].map({'yes': 1, 'no': 0})\n",
        "data['basement'] = data['basement'].map({'yes': 1, 'no': 0})\n",
        "data['hotwaterheating'] = data['hotwaterheating'].map({'yes': 1, 'no': 0})\n",
        "data['airconditioning'] = data['airconditioning'].map({'yes': 1, 'no': 0})\n",
        "data['prefarea'] = data['prefarea'].map({'yes': 1, 'no': 0})\n",
        "\n",
        "\n",
        "X1 = data[['area', 'bedrooms', 'bathrooms', 'stories', 'mainroad', 'guestroom', 'basement', 'hotwaterheating', 'airconditioning', 'parking', 'prefarea']].values\n",
        "y1 = data['price'].values\n",
        "print('X1 =', X1[: 5])\n",
        "print('Y1 =',y1[: 5])"
      ],
      "metadata": {
        "colab": {
          "base_uri": "https://localhost:8080/"
        },
        "id": "TLBVlem_tNHO",
        "outputId": "c8f6e133-18f9-46fe-9442-fdc82e25caa9"
      },
      "execution_count": 27,
      "outputs": [
        {
          "output_type": "stream",
          "name": "stdout",
          "text": [
            "X1 = [[7420    4    2    3    1    0    0    0    1    2    1]\n",
            " [8960    4    4    4    1    0    0    0    1    3    0]\n",
            " [9960    3    2    2    1    0    1    0    0    2    1]\n",
            " [7500    4    2    2    1    0    1    0    1    3    1]\n",
            " [7420    4    1    2    1    1    1    0    1    2    0]]\n",
            "Y1 = [13300000 12250000 12250000 12215000 11410000]\n"
          ]
        }
      ]
    },
    {
      "cell_type": "code",
      "source": [
        "X_train1, X_val1, y_train1, y_val1 = train_test_split(X, y, test_size=0.2)"
      ],
      "metadata": {
        "id": "FFQ4NfG5-Kwn"
      },
      "execution_count": 28,
      "outputs": []
    },
    {
      "cell_type": "code",
      "source": [
        "def gradient_descent1(X1, y1, alpha, num_iters):\n",
        "    m, n = X1.shape\n",
        "    theta = np.zeros(n)\n",
        "    losses_train1 = []\n",
        "    losses_val1 = []\n",
        "    for i in range(num_iters):\n",
        "        h = X1.dot(theta)\n",
        "        theta = theta - alpha * (1/m) * (X1.T.dot(h-y1))\n",
        "        loss_train1 = np.sum((h-y1)**2) / (2*m)\n",
        "        losses_train1.append(loss_train1)\n",
        "        h_val = X_val1.dot(theta)\n",
        "        loss_val1 = np.sum((h_val-y_val1)**2) / (2*X_val1.shape[0])\n",
        "        losses_val1.append(loss_val1)\n",
        "    return theta, losses_train1, losses_val1\n"
      ],
      "metadata": {
        "id": "x9chpGXu-T6S"
      },
      "execution_count": 29,
      "outputs": []
    },
    {
      "cell_type": "code",
      "source": [
        "theta, losses_train1, losess_val1 = gradient_descent1(X_train, y_train, 0.1, 100)"
      ],
      "metadata": {
        "colab": {
          "base_uri": "https://localhost:8080/"
        },
        "id": "g5oSne1p9f6U",
        "outputId": "990d70f8-7822-4a4d-b275-13fc8f2a1e50"
      },
      "execution_count": 30,
      "outputs": [
        {
          "output_type": "stream",
          "name": "stderr",
          "text": [
            "<ipython-input-29-d4387e88ab51>:12: RuntimeWarning: overflow encountered in square\n",
            "  loss_val1 = np.sum((h_val-y_val1)**2) / (2*X_val1.shape[0])\n",
            "<ipython-input-29-d4387e88ab51>:9: RuntimeWarning: overflow encountered in square\n",
            "  loss_train1 = np.sum((h-y1)**2) / (2*m)\n",
            "<ipython-input-29-d4387e88ab51>:8: RuntimeWarning: invalid value encountered in subtract\n",
            "  theta = theta - alpha * (1/m) * (X1.T.dot(h-y1))\n"
          ]
        }
      ]
    },
    {
      "cell_type": "code",
      "source": [
        "plt.plot(losses_train1, label='Training Loss',marker= '+')\n",
        "plt.plot(losess_val1, label='Validation Loss')\n",
        "plt.xlabel('Iterations')\n",
        "plt.ylabel('Loss')\n",
        "plt.legend()\n",
        "plt.show()"
      ],
      "metadata": {
        "colab": {
          "base_uri": "https://localhost:8080/",
          "height": 290
        },
        "id": "5qh6wS1Y9jsN",
        "outputId": "44876f36-62c6-42de-e72f-7e69e8c5714f"
      },
      "execution_count": 31,
      "outputs": [
        {
          "output_type": "display_data",
          "data": {
            "text/plain": [
              "<Figure size 432x288 with 1 Axes>"
            ],
            "image/png": "[encoded data removed]"
          },
          "metadata": {
            "needs_background": "light"
          }
        }
      ]
    },
    {
      "cell_type": "markdown",
      "source": [
        "**Problem 2 (a)**"
      ],
      "metadata": {
        "id": "-pYVHWwXBlAS"
      }
    },
    {
      "cell_type": "markdown",
      "source": [
        "Using the normalizer and standardizer functions, the training and validation loss will be different. Keep using the same gradient descent."
      ],
      "metadata": {
        "id": "WWJicU6nOkql"
      }
    },
    {
      "cell_type": "code",
      "source": [
        "normalizer = MinMaxScaler()\n",
        "\n",
        "X_normalized = normalizer.fit_transform(X)\n",
        "print('Normalized data = ', X_normalized)"
      ],
      "metadata": {
        "colab": {
          "base_uri": "https://localhost:8080/"
        },
        "id": "rWj7GfDUBmks",
        "outputId": "3f60c932-135f-415d-c830-30c112c2b37c"
      },
      "execution_count": 32,
      "outputs": [
        {
          "output_type": "stream",
          "name": "stdout",
          "text": [
            "Normalized data =  [[0.39656357 0.6        0.33333333 0.66666667 0.66666667]\n",
            " [0.5024055  0.6        1.         1.         1.        ]\n",
            " [0.57113402 0.4        0.33333333 0.33333333 0.66666667]\n",
            " ...\n",
            " [0.13539519 0.2        0.         0.         0.        ]\n",
            " [0.08659794 0.4        0.         0.         0.        ]\n",
            " [0.15120275 0.4        0.         0.33333333 0.        ]]\n"
          ]
        }
      ]
    },
    {
      "cell_type": "code",
      "source": [
        "X_train, X_val, y_train, y_val = train_test_split(X, y, test_size=0.2)\n",
        "\n",
        "def gradient_descent(X, y, alpha, num_iters):\n",
        "    m, n = X.shape\n",
        "    theta = np.zeros(n)\n",
        "    losses_train = []\n",
        "    losses_val = []\n",
        "    for i in range(num_iters):\n",
        "        h = X.dot(theta)\n",
        "        theta = theta - alpha * (1/m) * (X.T.dot(h-y))\n",
        "        loss_train = np.sum((h-y)**2) / (2*m)\n",
        "        losses_train.append(loss_train)\n",
        "        h_val = X_val.dot(theta)\n",
        "        loss_val = np.sum((h_val-y_val)**2) / (2*X_val.shape[0])\n",
        "        losses_val.append(loss_val)\n",
        "    return theta, losses_train, losses_val"
      ],
      "metadata": {
        "id": "bFq0jQELB49X"
      },
      "execution_count": 13,
      "outputs": []
    },
    {
      "cell_type": "code",
      "source": [
        "theta, losses_train, losess_val = gradient_descent(X_train, y_train, 0.1, 100)"
      ],
      "metadata": {
        "colab": {
          "base_uri": "https://localhost:8080/"
        },
        "id": "OEY17JW6B8Ej",
        "outputId": "47909ce4-5d2a-4928-8a76-66b2a057bbc3"
      },
      "execution_count": 14,
      "outputs": [
        {
          "output_type": "stream",
          "name": "stderr",
          "text": [
            "<ipython-input-13-5c17e46f1842>:14: RuntimeWarning: overflow encountered in square\n",
            "  loss_val = np.sum((h_val-y_val)**2) / (2*X_val.shape[0])\n",
            "<ipython-input-13-5c17e46f1842>:11: RuntimeWarning: overflow encountered in square\n",
            "  loss_train = np.sum((h-y)**2) / (2*m)\n",
            "<ipython-input-13-5c17e46f1842>:10: RuntimeWarning: invalid value encountered in subtract\n",
            "  theta = theta - alpha * (1/m) * (X.T.dot(h-y))\n"
          ]
        }
      ]
    },
    {
      "cell_type": "code",
      "source": [
        "plt.plot(losses_train, label='Training Loss',marker= '*')\n",
        "plt.plot(losess_val, label='Validation Loss')\n",
        "plt.xlabel('Iterations')\n",
        "plt.ylabel('Loss')\n",
        "plt.legend()\n",
        "plt.show()"
      ],
      "metadata": {
        "colab": {
          "base_uri": "https://localhost:8080/",
          "height": 290
        },
        "id": "GP2fbtERCDjM",
        "outputId": "9c74ae2f-2afb-4a4f-97e2-2119329309df"
      },
      "execution_count": 18,
      "outputs": [
        {
          "output_type": "display_data",
          "data": {
            "text/plain": [
              "<Figure size 432x288 with 1 Axes>"
            ],
            "image/png": "[encoded data removed]"
          },
          "metadata": {
            "needs_background": "light"
          }
        }
      ]
    },
    {
      "cell_type": "code",
      "source": [
        "standardizer = StandardScaler()\n",
        "X_standardized = standardizer.fit_transform(X)\n",
        "print(\"Standardized data =\", X_standardized)"
      ],
      "metadata": {
        "colab": {
          "base_uri": "https://localhost:8080/"
        },
        "id": "MCrE662mCQxY",
        "outputId": "7a060ddf-a787-41b6-8299-1ad5fb50f4ba"
      },
      "execution_count": 50,
      "outputs": [
        {
          "output_type": "stream",
          "name": "stdout",
          "text": [
            "Standardized data = [[ 1.04672629  1.40341936  1.42181174  1.37821692  1.51769249]\n",
            " [ 1.75700953  1.40341936  5.40580863  2.53202371  2.67940935]\n",
            " [ 2.21823241  0.04727831  1.42181174  0.22441013  1.51769249]\n",
            " ...\n",
            " [-0.70592066 -1.30886273 -0.57018671 -0.92939666 -0.80574124]\n",
            " [-1.03338891  0.04727831 -0.57018671 -0.92939666 -0.80574124]\n",
            " [-0.5998394   0.04727831 -0.57018671  0.22441013 -0.80574124]]\n"
          ]
        }
      ]
    },
    {
      "cell_type": "code",
      "source": [
        "X_train, X_val, y_train, y_val = train_test_split(X, y, test_size=0.2)\n",
        "\n",
        "def gradient_descent(X, y, alpha, num_iters):\n",
        "    m, n = X.shape\n",
        "    theta = np.zeros(n)\n",
        "    losses_train = []\n",
        "    losses_val = []\n",
        "    for i in range(num_iters):\n",
        "        h = X.dot(theta)\n",
        "        theta = theta - alpha * (1/m) * (X.T.dot(h-y))\n",
        "        loss_train = np.sum((h-y)**2) / (2*m)\n",
        "        losses_train.append(loss_train)\n",
        "        h_val = X_val.dot(theta)\n",
        "        loss_val = np.sum((h_val-y_val)**2) / (2*X_val.shape[0])\n",
        "        losses_val.append(loss_val)\n",
        "    return theta, losses_train, losses_val"
      ],
      "metadata": {
        "id": "rX88lLRCGC9e"
      },
      "execution_count": 20,
      "outputs": []
    },
    {
      "cell_type": "code",
      "source": [
        "theta, losses_train, losess_val = gradient_descent(X_train, y_train, 0.1, 100)"
      ],
      "metadata": {
        "colab": {
          "base_uri": "https://localhost:8080/"
        },
        "id": "JRxoTMuWGFNH",
        "outputId": "76056a4b-76bb-4c4b-835c-7b13305b3087"
      },
      "execution_count": 33,
      "outputs": [
        {
          "output_type": "stream",
          "name": "stderr",
          "text": [
            "<ipython-input-24-8de067195033>:12: RuntimeWarning: overflow encountered in square\n",
            "  loss_val = np.sum((h_val-y_val)**2) / (2*X_val.shape[0])\n",
            "<ipython-input-24-8de067195033>:9: RuntimeWarning: overflow encountered in square\n",
            "  loss_train = np.sum((h-y)**2) / (2*m)\n",
            "<ipython-input-24-8de067195033>:8: RuntimeWarning: invalid value encountered in subtract\n",
            "  theta = theta - alpha * (1/m) * (X.T.dot(h-y))\n"
          ]
        }
      ]
    },
    {
      "cell_type": "code",
      "source": [
        "plt.plot(losses_train, label='Training Loss',marker= '*')\n",
        "plt.plot(losess_val, label='Validation Loss')\n",
        "plt.xlabel('Iterations')\n",
        "plt.ylabel('Loss')\n",
        "plt.legend()\n",
        "plt.show()"
      ],
      "metadata": {
        "colab": {
          "base_uri": "https://localhost:8080/",
          "height": 290
        },
        "id": "bN3TDNGFGHtd",
        "outputId": "abe4a2d6-de47-4c03-f179-06fb87df31fa"
      },
      "execution_count": 34,
      "outputs": [
        {
          "output_type": "display_data",
          "data": {
            "text/plain": [
              "<Figure size 432x288 with 1 Axes>"
            ],
            "image/png": "[encoded data removed]"
          },
          "metadata": {
            "needs_background": "light"
          }
        }
      ]
    },
    {
      "cell_type": "markdown",
      "source": [
        "**Problem 2 (b)**"
      ],
      "metadata": {
        "id": "gtdhrpR-8LLV"
      }
    },
    {
      "cell_type": "code",
      "source": [
        "normalizer = MinMaxScaler()\n",
        "\n",
        "X_normalized = normalizer.fit_transform(X)"
      ],
      "metadata": {
        "id": "MA9yUMtaGNlh"
      },
      "execution_count": 35,
      "outputs": []
    },
    {
      "cell_type": "code",
      "source": [
        "X1 = data[['area', 'bedrooms', 'bathrooms', 'stories', 'mainroad', 'guestroom', 'basement', 'hotwaterheating', 'airconditioning', 'parking', 'prefarea']].values\n",
        "y1 = data['price'].values\n",
        "print('X1 =', X1[: 5])\n",
        "print('Y1 =',y1[: 5])"
      ],
      "metadata": {
        "colab": {
          "base_uri": "https://localhost:8080/"
        },
        "outputId": "51ff697c-cd29-4c77-b475-896b9da041c9",
        "id": "07xIuw_oUIdA"
      },
      "execution_count": 36,
      "outputs": [
        {
          "output_type": "stream",
          "name": "stdout",
          "text": [
            "X1 = [[7420    4    2    3    1    0    0    0    1    2    1]\n",
            " [8960    4    4    4    1    0    0    0    1    3    0]\n",
            " [9960    3    2    2    1    0    1    0    0    2    1]\n",
            " [7500    4    2    2    1    0    1    0    1    3    1]\n",
            " [7420    4    1    2    1    1    1    0    1    2    0]]\n",
            "Y1 = [13300000 12250000 12250000 12215000 11410000]\n"
          ]
        }
      ]
    },
    {
      "cell_type": "code",
      "source": [
        "X_train1, X_val1, y_train1, y_val1 = train_test_split(X, y, test_size=0.2)"
      ],
      "metadata": {
        "id": "47sU0XEGUIdB"
      },
      "execution_count": 37,
      "outputs": []
    },
    {
      "cell_type": "code",
      "source": [
        "def gradient_descent1(X1, y1, alpha, num_iters):\n",
        "    m, n = X1.shape\n",
        "    theta = np.zeros(n)\n",
        "    losses_train1 = []\n",
        "    losses_val1 = []\n",
        "    for i in range(num_iters):\n",
        "        h = X1.dot(theta)\n",
        "        theta = theta - alpha * (1/m) * (X1.T.dot(h-y1))\n",
        "        loss_train1 = np.sum((h-y1)**2) / (2*m)\n",
        "        losses_train1.append(loss_train1)\n",
        "        h_val = X_val1.dot(theta)\n",
        "        loss_val1 = np.sum((h_val-y_val1)**2) / (2*X_val1.shape[0])\n",
        "        losses_val1.append(loss_val1)\n",
        "    return theta, losses_train1, losses_val1\n"
      ],
      "metadata": {
        "id": "LAN9UqxqUIdB"
      },
      "execution_count": 38,
      "outputs": []
    },
    {
      "cell_type": "code",
      "source": [
        "theta, losses_train1, losess_val1 = gradient_descent1(X_train, y_train, 0.1, 100)"
      ],
      "metadata": {
        "colab": {
          "base_uri": "https://localhost:8080/"
        },
        "outputId": "e1eecc13-b598-4149-fa14-788fa74e1940",
        "id": "giuqJLCyUIdB"
      },
      "execution_count": 39,
      "outputs": [
        {
          "output_type": "stream",
          "name": "stderr",
          "text": [
            "<ipython-input-38-d4387e88ab51>:12: RuntimeWarning: overflow encountered in square\n",
            "  loss_val1 = np.sum((h_val-y_val1)**2) / (2*X_val1.shape[0])\n",
            "<ipython-input-38-d4387e88ab51>:9: RuntimeWarning: overflow encountered in square\n",
            "  loss_train1 = np.sum((h-y1)**2) / (2*m)\n",
            "<ipython-input-38-d4387e88ab51>:8: RuntimeWarning: invalid value encountered in subtract\n",
            "  theta = theta - alpha * (1/m) * (X1.T.dot(h-y1))\n"
          ]
        }
      ]
    },
    {
      "cell_type": "code",
      "source": [
        "plt.plot(losses_train1, label='Training Loss',marker= '*')\n",
        "plt.plot(losess_val1, label='Validation Loss')\n",
        "plt.xlabel('Iterations')\n",
        "plt.ylabel('Loss')\n",
        "plt.legend()\n",
        "plt.show()"
      ],
      "metadata": {
        "colab": {
          "base_uri": "https://localhost:8080/",
          "height": 290
        },
        "outputId": "32324c38-3240-4daa-b7c5-149b29d646b6",
        "id": "pQsz_FY7UIdB"
      },
      "execution_count": 40,
      "outputs": [
        {
          "output_type": "display_data",
          "data": {
            "text/plain": [
              "<Figure size 432x288 with 1 Axes>"
            ],
            "image/png": "[encoded data removed]"
          },
          "metadata": {
            "needs_background": "light"
          }
        }
      ]
    },
    {
      "cell_type": "code",
      "source": [
        "standardizer = StandardScaler()\n",
        "X_standardized = standardizer.fit_transform(X)"
      ],
      "metadata": {
        "id": "7gGXvS69UaSX"
      },
      "execution_count": 41,
      "outputs": []
    },
    {
      "cell_type": "code",
      "source": [
        "X1 = data[['area', 'bedrooms', 'bathrooms', 'stories', 'mainroad', 'guestroom', 'basement', 'hotwaterheating', 'airconditioning', 'parking', 'prefarea']].values\n",
        "y1 = data['price'].values\n",
        "print('X1 =', X1[: 5])\n",
        "print('Y1 =',y1[: 5])"
      ],
      "metadata": {
        "colab": {
          "base_uri": "https://localhost:8080/"
        },
        "outputId": "27e9f735-56e2-444c-ed36-6f6ef59d09e1",
        "id": "ivvkU5oLUaSX"
      },
      "execution_count": 42,
      "outputs": [
        {
          "output_type": "stream",
          "name": "stdout",
          "text": [
            "X1 = [[7420    4    2    3    1    0    0    0    1    2    1]\n",
            " [8960    4    4    4    1    0    0    0    1    3    0]\n",
            " [9960    3    2    2    1    0    1    0    0    2    1]\n",
            " [7500    4    2    2    1    0    1    0    1    3    1]\n",
            " [7420    4    1    2    1    1    1    0    1    2    0]]\n",
            "Y1 = [13300000 12250000 12250000 12215000 11410000]\n"
          ]
        }
      ]
    },
    {
      "cell_type": "code",
      "source": [
        "X_train1, X_val1, y_train1, y_val1 = train_test_split(X, y, test_size=0.2)"
      ],
      "metadata": {
        "id": "8LK8YFeZUaSX"
      },
      "execution_count": 43,
      "outputs": []
    },
    {
      "cell_type": "code",
      "source": [
        "def gradient_descent1(X1, y1, alpha, num_iters):\n",
        "    m, n = X1.shape\n",
        "    theta = np.zeros(n)\n",
        "    losses_train1 = []\n",
        "    losses_val1 = []\n",
        "    for i in range(num_iters):\n",
        "        h = X1.dot(theta)\n",
        "        theta = theta - alpha * (1/m) * (X1.T.dot(h-y1))\n",
        "        loss_train1 = np.sum((h-y1)**2) / (2*m)\n",
        "        losses_train1.append(loss_train1)\n",
        "        h_val = X_val1.dot(theta)\n",
        "        loss_val1 = np.sum((h_val-y_val1)**2) / (2*X_val1.shape[0])\n",
        "        losses_val1.append(loss_val1)\n",
        "    return theta, losses_train1, losses_val1\n"
      ],
      "metadata": {
        "id": "1AKUQI9dUaSY"
      },
      "execution_count": 44,
      "outputs": []
    },
    {
      "cell_type": "code",
      "source": [
        "theta, losses_train1, losess_val1 = gradient_descent1(X_train, y_train, 0.1, 100)"
      ],
      "metadata": {
        "colab": {
          "base_uri": "https://localhost:8080/"
        },
        "outputId": "887b261e-7348-425e-aea0-d949630e3d74",
        "id": "GT5GeUVzUaSY"
      },
      "execution_count": 45,
      "outputs": [
        {
          "output_type": "stream",
          "name": "stderr",
          "text": [
            "<ipython-input-44-d4387e88ab51>:12: RuntimeWarning: overflow encountered in square\n",
            "  loss_val1 = np.sum((h_val-y_val1)**2) / (2*X_val1.shape[0])\n",
            "<ipython-input-44-d4387e88ab51>:9: RuntimeWarning: overflow encountered in square\n",
            "  loss_train1 = np.sum((h-y1)**2) / (2*m)\n",
            "<ipython-input-44-d4387e88ab51>:8: RuntimeWarning: invalid value encountered in subtract\n",
            "  theta = theta - alpha * (1/m) * (X1.T.dot(h-y1))\n"
          ]
        }
      ]
    },
    {
      "cell_type": "code",
      "source": [
        "plt.plot(losses_train1, label='Training Loss',marker= '*')\n",
        "plt.plot(losess_val1, label='Validation Loss')\n",
        "plt.xlabel('Iterations')\n",
        "plt.ylabel('Loss')\n",
        "plt.legend()\n",
        "plt.show()"
      ],
      "metadata": {
        "colab": {
          "base_uri": "https://localhost:8080/",
          "height": 290
        },
        "outputId": "0dc30968-c287-4711-8535-aabc4ed86a19",
        "id": "CWOVx0OXUaSY"
      },
      "execution_count": 46,
      "outputs": [
        {
          "output_type": "display_data",
          "data": {
            "text/plain": [
              "<Figure size 432x288 with 1 Axes>"
            ],
            "image/png": "[encoded data removed]"
          },
          "metadata": {
            "needs_background": "light"
          }
        }
      ]
    },
    {
      "cell_type": "markdown",
      "source": [
        "**Problem 3 (a)**"
      ],
      "metadata": {
        "id": "QfXndyVJVwwO"
      }
    },
    {
      "cell_type": "code",
      "source": [
        "X = data[['area', 'bedrooms', 'bathrooms', 'stories', 'parking']].values\n",
        "y = data['price'].values.reshape(-1, 1)\n",
        "\n",
        "X_train, X_test, y_train, y_test = train_test_split(X, y, test_size=0.2)\n",
        "\n",
        "X_train = np.hstack((np.ones((X_train.shape[0], 1)), X_train))\n",
        "X_test = np.hstack((np.ones((X_test.shape[0], 1)), X_test))"
      ],
      "metadata": {
        "id": "Ah83l-vKytaf"
      },
      "execution_count": 47,
      "outputs": []
    },
    {
      "cell_type": "code",
      "source": [
        "def gradient_descent(X, y, theta, alpha, num_iters, lambd):\n",
        "    m = len(y)\n",
        "    J_train = np.zeros(num_iters)\n",
        "    J_val = np.zeros(num_iters)\n",
        "    for i in range(num_iters):\n",
        "        h_train = np.dot(X_train, theta)\n",
        "        J_train[i] = (1/(2*m)) * np.sum(np.square(h_train - y_train)) + (lambd/(2*m)) * np.sum(np.square(theta[1:]))\n",
        "        h_val = np.dot(X_test, theta)\n",
        "        J_val[i] = (1/(2*m)) * np.sum(np.square(h_val - y_test)) + (lambd/(2*m)) * np.sum(np.square(theta[1:]))\n",
        "        theta = theta - alpha * (1/m) * (np.dot(X.T, h_train - y) + lambd * np.vstack(([[0]], theta[1:])))\n",
        "    return theta, J_train, J_val"
      ],
      "metadata": {
        "id": "k8GEmOvMzLdn"
      },
      "execution_count": 48,
      "outputs": []
    },
    {
      "cell_type": "code",
      "source": [
        "theta = np.zeros((X_train.shape[1], 1))\n",
        "lambd = 0.1\n",
        "\n",
        "theta, J_train, J_val = gradient_descent(X_train, y_train, theta, 0.1, 100, lambd)\n",
        "\n",
        "plt.plot(J_train, label='Training Loss',marker= '*')\n",
        "plt.plot(J_val, label='Validation Loss')\n",
        "plt.title(\"Learning Curve\")\n",
        "plt.xlabel(\"Iteration\")\n",
        "plt.ylabel(\"Cost\")\n",
        "plt.legend()\n",
        "plt.show()"
      ],
      "metadata": {
        "colab": {
          "base_uri": "https://localhost:8080/",
          "height": 364
        },
        "id": "QlP7dsV6zUHD",
        "outputId": "6eb7d3c2-77a7-4a56-9c2a-18251a28b53b"
      },
      "execution_count": 51,
      "outputs": [
        {
          "output_type": "stream",
          "name": "stderr",
          "text": [
            "<ipython-input-48-949c21a89180>:7: RuntimeWarning: overflow encountered in square\n",
            "  J_train[i] = (1/(2*m)) * np.sum(np.square(h_train - y_train)) + (lambd/(2*m)) * np.sum(np.square(theta[1:]))\n",
            "<ipython-input-48-949c21a89180>:9: RuntimeWarning: overflow encountered in square\n",
            "  J_val[i] = (1/(2*m)) * np.sum(np.square(h_val - y_test)) + (lambd/(2*m)) * np.sum(np.square(theta[1:]))\n"
          ]
        },
        {
          "output_type": "display_data",
          "data": {
            "text/plain": [
              "<Figure size 432x288 with 1 Axes>"
            ],
            "image/png": "[encoded data removed]"
          },
          "metadata": {
            "needs_background": "light"
          }
        }
      ]
    }
  ]
}